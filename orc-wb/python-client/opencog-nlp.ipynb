{
 "metadata": {
  "name": "",
  "signature": "sha256:7ca6d9940c1ef160109a8aba83668f5253dbfbe94cc5bd8bc1dfff5a3f1b2018"
 },
 "nbformat": 3,
 "nbformat_minor": 0,
 "worksheets": [
  {
   "cells": [
    {
     "cell_type": "markdown",
     "metadata": {},
     "source": [
      "# OpenCog Natural Language Processing\n",
      "\n",
      "The OpenCog Framework is a toolkit for software developers which includes at its foundation the OpenCog Core and the OpenCog runtime consisting of the AtomSpace and CogServer. The OCF also includes source code and stable APIs for developing AI applications that run on the OpenCog Core, where the OCF is designed to be used with specific cognitive algorithms (e.g. MOSES and PLN which are developed as plug-ins to the OCF) to build AI applications as collections of interacting OpenCog MindAgents.\n",
      "\n",
      "\n",
      "## Pipeline\n",
      "\n",
      "For natural language comprehension, OpenCog currently has three major steps:\n",
      "\n",
      "* **Link Grammer**\n",
      "\n",
      "  The Link Grammar Parser is a syntactic parser of English, based on link grammar, an original theory of English syntax. Given a sentence, the system assigns to it a syntactic structure, which consists of a set of labeled links connecting pairs of words. The parser also produces a \"constituent\" representation of a sentence (showing noun phrases, verb phrases, etc.).\n",
      "\n",
      "\n",
      "* **RelEx**\n",
      "\n",
      "  RelEx, a narrow-AI component of OpenCog, is an English-language semantic dependency relationship extractor, built on the Link Grammar parser. It uses a series of graph rewriting rules to identify subject, object, indirect object and many other syntactic dependency relationships between words in a sentence. That is, it generates the grammatical relations of a dependency grammar. The set of dependency relations it employs resemble those of Dekang Lin's MiniPar and the Stanford parser (and it has an explicit compatibility mode). It is inspired in part by the ideas of Hudson's Word Grammar.\n",
      "  \n",
      "  Unlike other dependency parsers, RelEx attempts a greater degree of semantic normalization: for questions, comparatives, entities, and for prepositional relationships, whereas other parsers (such as the Stanford parser) stick to a literal presentation of the syntactic structure of text. For example, RelEx pays special attention to determining when a sentence or phrase implies that its referents are hypothetical versus factive, and to isolating the query variables in a question, and determining whether a question is seeking specific information or questioning the truth-value of a proposition.  Both of these aspects are intended to make RelEx well-suited for question-answering and semantic comprehension/reasoning systems. In addition, RelEx tags words with features including part-of-speech, noun-number, verb-tense, gender, determinacy, etc.\n",
      "\n",
      "\n",
      "* **RelEx2Logic**\n",
      "\n",
      "  RelEx2Logic uses the information recorded in both the link-grammar and RelEx representations to generate OpenCog 'atoms'--entities generated in Scheme code which form the nodes and links of the hypergraph which is to be operated on by automated reasoning components such as MOSES and PLN, and which constitutes the central representation of all knowledge in OpenCog."
     ]
    },
    {
     "cell_type": "markdown",
     "metadata": {},
     "source": [
      "## Example\n",
      "\n",
      "We begin by starting the OpenCog and RelEx servers."
     ]
    },
    {
     "cell_type": "markdown",
     "metadata": {},
     "source": [
      "**Important: The CogServer and RelEx servers must be running in the background and the REST API must be loaded before running this notebook.**"
     ]
    },
    {
     "cell_type": "code",
     "collapsed": false,
     "input": [
      "from opencog import *"
     ],
     "language": "python",
     "metadata": {},
     "outputs": [],
     "prompt_number": 9
    },
    {
     "cell_type": "code",
     "collapsed": false,
     "input": [
      "# Start the OpenCog server\n",
      "server = Server()\n",
      "#server.start()"
     ],
     "language": "python",
     "metadata": {},
     "outputs": []
    },
    {
     "cell_type": "code",
     "collapsed": false,
     "input": [
      "# Start the RelEx server\n",
      "relex_server = RelExServer()\n",
      "#relex_server.start();"
     ],
     "language": "python",
     "metadata": {},
     "outputs": [],
     "prompt_number": 18
    },
    {
     "cell_type": "markdown",
     "metadata": {},
     "source": [
      "Then we can use Link Grammar and RelEx to parse this sentence:\n",
      "\n",
      "**I think that all dogs can fly.**"
     ]
    },
    {
     "cell_type": "code",
     "collapsed": false,
     "input": [
      "relex(\"I think that all dogs can fly.\")"
     ],
     "language": "python",
     "metadata": {},
     "outputs": [
      {
       "output_type": "stream",
       "stream": "stdout",
       "text": [
        "(S (NP I) (VP think (SBAR that (S (NP all dogs) (VP can (VP fly))))) .)\r\n",
        "\r\n",
        "\r\n",
        "    +-------------------------Xp------------------------+       \r\n",
        "    |                     +------------CV---------->+   |       \r\n",
        "    +---->WV---->+        +-----Cet-----+           |   |       \r\n",
        "    +--Wd--+-Sp*i+---TH---+      +--Dmc-+--Sp-+--I--+   +--RW--+\r\n",
        "    |      |     |        |      |      |     |     |   |      |\r\n",
        "LEFT-WALL I.p think.v that.j-c all.a dogs.n can.v fly.v . RIGHT-WALL \r\n",
        "\r\n",
        "\r\n",
        "Parse confidence: 0.7866\r\n",
        "cost vector = (UNUSED=0.0 DIS=0.0 LEN=12.0)\r\n",
        "\r\n",
        "======\r\n",
        "\r\n",
        "Dependency relations:\r\n",
        "\r\n",
        "    that(think, fly)\r\n",
        "    _subj(think, I)\r\n",
        "    _quantity(dog, all)\r\n",
        "    _subj(fly, dog)\r\n",
        "\r\n",
        "Attributes:\r\n",
        "\r\n",
        "    tense(think, present)\r\n",
        "    subscript-TAG(think, .v)\r\n",
        "    pos(think, verb)\r\n",
        "    subscript-TAG(can, .v)\r\n",
        "    pos(can, verb)\r\n",
        "    subscript-TAG(dog, .n)\r\n",
        "    pos(dog, noun)\r\n",
        "    noun_number(dog, plural)\r\n",
        "    subscript-TAG(all, .a)\r\n",
        "    pos(all, adj)\r\n",
        "    pos(., punctuation)\r\n",
        "    tense(fly, present_future)\r\n",
        "    HYP(fly, T)\r\n",
        "    subscript-TAG(fly, .v)\r\n",
        "    pos(fly, verb)\r\n",
        "    pronoun-FLAG(I, T)\r\n",
        "    gender(I, person)\r\n",
        "    definite-FLAG(I, T)\r\n",
        "    subscript-TAG(I, .p)\r\n",
        "    pos(I, noun)\r\n",
        "    noun_number(I, singular)\r\n",
        "    subscript-TAG(that, .j-c)\r\n",
        "    pos(that, conjunction)\n"
       ]
      }
     ],
     "prompt_number": 14
    },
    {
     "cell_type": "markdown",
     "metadata": {},
     "source": [
      "The above shows the linked representation produced by LG, which RelEx uses to extract the relations & attributes.  In order to apply RelEx2Logic and generate the atoms in the OpenCog atomspace for reasoning, we first need to make sure both OpenCog and RelEx servers are running.  Then we run the following scheme code from the OpenCog scheme shell."
     ]
    },
    {
     "cell_type": "code",
     "collapsed": false,
     "input": [
      "to_logic(\"I think that all dogs can fly.\")"
     ],
     "language": "python",
     "metadata": {},
     "outputs": [
      {
       "output_type": "stream",
       "stream": "stdout",
       "text": [
        "((ImplicationLink (stv 0.99000001 0.99000001)\n",
        "   (PredicateNode \"think@b478bef6-3654-4ede-af1e-9ed6e618395f\" (stv 0.001 0.99000001))\n",
        "   (PredicateNode \"think\" (stv 0.001 0.99000001))\n",
        ")\n",
        " (InheritanceLink (stv 0.99000001 0.99000001)\n",
        "   (ConceptNode \"I@3d429537-322a-4dce-89b7-6e95c81263a1\" (stv 0.001 0.99000001))\n",
        "   (ConceptNode \"I\" (stv 0.001 0.99000001))\n",
        ")\n",
        " (EvaluationLink (stv 0.99000001 0.99000001)\n",
        "   (PredicateNode \"think@b478bef6-3654-4ede-af1e-9ed6e618395f\" (stv 0.001 0.99000001))\n",
        "   (ListLink (stv 0.99000001 0.99000001)\n",
        "      (ConceptNode \"I@3d429537-322a-4dce-89b7-6e95c81263a1\" (stv 0.001 0.99000001))\n",
        "   )\n",
        ")\n",
        " (InheritanceLink (stv 0.99000001 0.99000001)\n",
        "   (PredicateNode \"think@b478bef6-3654-4ede-af1e-9ed6e618395f\" (stv 0.001 0.99000001))\n",
        "   (ConceptNode \"present\" (stv 0.001 0.99000001))\n",
        ")\n",
        " (ImplicationLink (stv 0.99000001 0.99000001)\n",
        "   (PredicateNode \"fly@31abebfe-b431-42bc-89dd-cd1952959ad0\" (stv 0.001 0.99000001))\n",
        "   (PredicateNode \"fly\" (stv 0.001 0.99000001))\n",
        ")\n",
        " (EvaluationLink (stv 0.99000001 0.99000001)\n",
        "   (PredicateNode \"that\" (stv 0.001 0.99000001))\n",
        "   (ListLink (stv 0.99000001 0.99000001)\n",
        "      (PredicateNode \"think@b478bef6-3654-4ede-af1e-9ed6e618395f\" (stv 0.001 0.99000001))\n",
        "      (PredicateNode \"fly@31abebfe-b431-42bc-89dd-cd1952959ad0\" (stv 0.001 0.99000001))\n",
        "   )\n",
        ")\n",
        " (InheritanceLink (stv 0.99000001 0.99000001)\n",
        "   (ConceptNode \"dogs@3ee0e21c-48bb-4934-9982-d4ad3b84b030\" (stv 0.001 0.99000001))\n",
        "   (ConceptNode \"dog\" (stv 0.001 0.99000001))\n",
        ")\n",
        " (InheritanceLink (stv 0.99000001 0.99000001)\n",
        "   (PredicateNode \"fly@31abebfe-b431-42bc-89dd-cd1952959ad0\" (stv 0.001 0.99000001))\n",
        "   (ConceptNode \"present_future\" (stv 0.001 0.99000001))\n",
        ")\n",
        " (EvaluationLink (stv 0.99000001 0.99000001)\n",
        "   (PredicateNode \"definite\" (stv 0.001 0.99000001))\n",
        "   (ListLink (stv 0.99000001 0.99000001)\n",
        "      (ConceptNode \"I@3d429537-322a-4dce-89b7-6e95c81263a1\" (stv 0.001 0.99000001))\n",
        "   )\n",
        ")\n",
        " (ForAllLink (stv 0.99000001 0.99000001)\n",
        "   (VariableNode \"$X\" (stv 0.001 0.99000001))\n",
        "   (ImplicationLink (stv 0.99000001 0.99000001)\n",
        "      (InheritanceLink (stv 0.99000001 0.99000001)\n",
        "         (VariableNode \"$X\" (stv 0.001 0.99000001))\n",
        "         (ConceptNode \"dogs@3ee0e21c-48bb-4934-9982-d4ad3b84b030\" (stv 0.001 0.99000001))\n",
        "      )\n",
        "      (EvaluationLink (stv 0.99000001 0.99000001)\n",
        "         (PredicateNode \"fly@31abebfe-b431-42bc-89dd-cd1952959ad0\" (stv 0.001 0.99000001))\n",
        "         (ListLink (stv 0.99000001 0.99000001)\n",
        "            (VariableNode \"$X\" (stv 0.001 0.99000001))\n",
        "         )\n",
        "      )\n",
        "   )\n",
        ")\n",
        ")\n",
        "\n"
       ]
      }
     ],
     "prompt_number": 19
    },
    {
     "cell_type": "markdown",
     "metadata": {},
     "source": [
      "The above is formatted in the Scheme programming language notation.  Each atom consists of a node or link type followed by the specific information defining that atom and two numbers used for probabilistic reasoning, as further discussed below.  \n",
      "\n",
      "\n",
      "\n",
      "The links and nodes returned above represent the logic of the sentence in terms of Predicate Logic.  For example, the link `(ForAllLink ...)` roughly means *for all variables `$X` which inherit from the concept `dogs`, applying the predicate `fly` to `$X` will have a high truth value*.  On the other hand, the link `(EvaluationLink ... think ... I ...)` represents `I think`, with `think` being treated as a predicate and `I` as its argument.  In general, each Link, and some node-types (such as PredicateNodes), may take two or more atoms as arguments, relating them to each other and to the concept defined by the governing node, to form various natural language dependency relations such as subject-verb-object, or basic logical relations, such as 'inheritance.'\n",
      "\n",
      "Combining all the information so represented forms a hypergraph capturing the semantics of the sentence \"**I think that all dogs can fly.**\" in a format suitable for automated reasoning.\n",
      "\n",
      "In OpenCog, reasoning is done by PLN (Probabilistic Logic Networks).  PLN is a novel conceptual, mathematical, and computational approach to uncertain inference.  It provides a framework for probabilistic inference in a way that is compatible with both Term Logic and Predicate Logic, and scales up to operate in real time on large dynamic knowledge bases.  The two numbers following the notation 'stv' in each atom above has a particular syntax in PLN defining the 'strength' and 'confidence' of that atom."
     ]
    },
    {
     "cell_type": "markdown",
     "metadata": {},
     "source": [
      "### Other sentences to try\n",
      "\n",
      "**To whom did you send that message?**"
     ]
    },
    {
     "cell_type": "code",
     "collapsed": false,
     "input": [
      "relex(\"To whom did you send that message?\")"
     ],
     "language": "python",
     "metadata": {},
     "outputs": [
      {
       "output_type": "stream",
       "stream": "stdout",
       "text": [
        "(S to whom did (NP you) (VP send (NP that message)) ?)\r\n",
        "\r\n",
        "\r\n",
        "    +--------------------------Xp-------------------------+       \r\n",
        "    +------->WV------->+                                  |       \r\n",
        "    |       +----Qd----+----I*d----+-------Os-------+     |       \r\n",
        "    +---Wj--+-Jw-+     +-SIp-+     |       +---Dsu--+     +--RW--+\r\n",
        "    |       |    |     |     |     |       |        |     |      |\r\n",
        "LEFT-WALL to.r whom did.v-d you send.v that.j-d message.n ? RIGHT-WALL \r\n",
        "\r\n",
        "\r\n",
        "Parse confidence: 0.4965\r\n",
        "cost vector = (UNUSED=0.0 DIS=2.0 LEN=15.0)\r\n",
        "\r\n",
        "======\r\n",
        "\r\n",
        "Dependency relations:\r\n",
        "\r\n",
        "    to(send, _$qVar)\r\n",
        "    _obj(send, message)\r\n",
        "    _subj(send, you)\r\n",
        "    _det(message, that)\r\n",
        "\r\n",
        "Attributes:\r\n",
        "\r\n",
        "    pronoun-FLAG(you, T)\r\n",
        "    gender(you, person)\r\n",
        "    pos(you, noun)\r\n",
        "    tense(send, past_infinitive)\r\n",
        "    HYP(send, T)\r\n",
        "    subscript-TAG(send, .v)\r\n",
        "    pos(send, verb)\r\n",
        "    subscript-TAG(do, .v-d)\r\n",
        "    pos(do, verb)\r\n",
        "    QUERY-TYPE(_$qVar, who)\r\n",
        "    pronoun-FLAG(_$qVar, T)\r\n",
        "    relative-FLAG(_$qVar, T)\r\n",
        "    interrogative-FLAG(_$qVar, T)\r\n",
        "    pos(_$qVar, noun)\r\n",
        "    pos(?, punctuation)\r\n",
        "    definite-FLAG(message, T)\r\n",
        "    subscript-TAG(message, .n)\r\n",
        "    pos(message, noun)\r\n",
        "    noun_number(message, singular)\r\n",
        "    subscript-TAG(that, .j-d)\r\n",
        "    pos(that, det)\r\n",
        "    subscript-TAG(to, .r)\r\n",
        "    pos(to, prep)\n"
       ]
      }
     ],
     "prompt_number": 20
    },
    {
     "cell_type": "code",
     "collapsed": false,
     "input": [
      "to_logic(\"To whom did you send that message?\")"
     ],
     "language": "python",
     "metadata": {},
     "outputs": [
      {
       "output_type": "stream",
       "stream": "stdout",
       "text": [
        "((ImplicationLink (stv 0.99000001 0.99000001)\n",
        "   (PredicateNode \"send@22a722d0-2f43-48fe-9166-1a8c79f269ae\" (stv 0.001 0.99000001))\n",
        "   (PredicateNode \"send\" (stv 0.001 0.99000001))\n",
        ")\n",
        " (InheritanceLink (stv 0.99000001 0.99000001)\n",
        "   (ConceptNode \"you@4dfbbfed-0bb4-4df2-9d71-a33fd5a4e49a\" (stv 0.001 0.99000001))\n",
        "   (ConceptNode \"you\" (stv 0.001 0.99000001))\n",
        ")\n",
        " (InheritanceLink (stv 0.99000001 0.99000001)\n",
        "   (ConceptNode \"message@5b9ea8f1-283b-4b8a-8d56-d3ee63ee53b1\" (stv 0.001 0.99000001))\n",
        "   (ConceptNode \"message\" (stv 0.001 0.99000001))\n",
        ")\n",
        " (EvaluationLink (stv 0.99000001 0.99000001)\n",
        "   (PredicateNode \"send@22a722d0-2f43-48fe-9166-1a8c79f269ae\" (stv 0.001 0.99000001))\n",
        "   (ListLink (stv 0.99000001 0.99000001)\n",
        "      (ConceptNode \"you@4dfbbfed-0bb4-4df2-9d71-a33fd5a4e49a\" (stv 0.001 0.99000001))\n",
        "      (ConceptNode \"message@5b9ea8f1-283b-4b8a-8d56-d3ee63ee53b1\" (stv 0.001 0.99000001))\n",
        "      (VariableNode \"_$qVar\" (stv 0.001 0.99000001))\n",
        "   )\n",
        ")\n",
        " (InheritanceLink (stv 0.99000001 0.99000001)\n",
        "   (PredicateNode \"send@22a722d0-2f43-48fe-9166-1a8c79f269ae\" (stv 0.001 0.99000001))\n",
        "   (ConceptNode \"past_infinitive\" (stv 0.001 0.99000001))\n",
        ")\n",
        " (InheritanceLink (stv 0.99000001 0.99000001)\n",
        "   (VariableNode \"$9ZTKrfM3TuQYIXPmcF92hkGLUJmL6y5fS9uP\" (stv 0.001 0.99000001))\n",
        "   (ConceptNode \"message\" (stv 0.001 0.99000001))\n",
        ")\n",
        " (EvaluationLink (stv 0.99000001 0.99000001)\n",
        "   (PredicateNode \"definite\" (stv 0.001 0.99000001))\n",
        "   (ListLink (stv 0.99000001 0.99000001)\n",
        "      (ConceptNode \"message@5b9ea8f1-283b-4b8a-8d56-d3ee63ee53b1\" (stv 0.001 0.99000001))\n",
        "   )\n",
        ")\n",
        ")\n",
        "\n"
       ]
      }
     ],
     "prompt_number": 21
    },
    {
     "cell_type": "markdown",
     "metadata": {},
     "source": [
      "**How did you learn that?**"
     ]
    },
    {
     "cell_type": "code",
     "collapsed": false,
     "input": [
      "relex(\"How did you learn that?\")"
     ],
     "language": "python",
     "metadata": {},
     "outputs": [
      {
       "output_type": "stream",
       "stream": "stdout",
       "text": [
        "(S how did (NP you) (VP learn (NP that)) ?)\r\n",
        "\r\n",
        "\r\n",
        "    +------------------Xp------------------+       \r\n",
        "    +---->WV---->+----I*d----+             |       \r\n",
        "    +--Wq--+--Q--+-SIp-+     +---Os---+    +--RW--+\r\n",
        "    |      |     |     |     |        |    |      |\r\n",
        "LEFT-WALL how did.v-d you learn.v that.j-p ? RIGHT-WALL \r\n",
        "\r\n",
        "\r\n",
        "Parse confidence: 0.6703\r\n",
        "cost vector = (UNUSED=0.0 DIS=1.0 LEN=10.0)\r\n",
        "\r\n",
        "======\r\n",
        "\r\n",
        "Dependency relations:\r\n",
        "\r\n",
        "    _obj(learn, that)\r\n",
        "    how(learn, _$qVar)\r\n",
        "    _subj(learn, you)\r\n",
        "\r\n",
        "Attributes:\r\n",
        "\r\n",
        "    pronoun-FLAG(you, T)\r\n",
        "    gender(you, person)\r\n",
        "    pos(you, noun)\r\n",
        "    tense(learn, past_infinitive)\r\n",
        "    HYP(learn, T)\r\n",
        "    subscript-TAG(learn, .v)\r\n",
        "    pos(learn, verb)\r\n",
        "    pos(?, punctuation)\r\n",
        "    pronoun-FLAG(that, T)\r\n",
        "    relative-FLAG(that, T)\r\n",
        "    demonstrative-FLAG(that, T)\r\n",
        "    subscript-TAG(that, .j-p)\r\n",
        "    pos(that, noun)\r\n",
        "    noun_number(that, uncountable)\r\n",
        "    subscript-TAG(do, .v-d)\r\n",
        "    pos(do, verb)\r\n",
        "    QUERY-TYPE(_$qVar, how)\r\n",
        "    pos(_$qVar, adv)\n"
       ]
      }
     ],
     "prompt_number": 22
    },
    {
     "cell_type": "code",
     "collapsed": false,
     "input": [
      "to_logic(\"How did you learn that?\")"
     ],
     "language": "python",
     "metadata": {},
     "outputs": [
      {
       "output_type": "stream",
       "stream": "stdout",
       "text": [
        "((ImplicationLink (stv 0.99000001 0.99000001)\n",
        "   (PredicateNode \"learn@3a7d35d8-39b7-4444-a16e-e39986b5d393\" (stv 0.001 0.99000001))\n",
        "   (PredicateNode \"learn\" (stv 0.001 0.99000001))\n",
        ")\n",
        " (InheritanceLink (stv 0.99000001 0.99000001)\n",
        "   (ConceptNode \"you@737ddf6d-b637-48ad-8ebb-059d57f39e71\" (stv 0.001 0.99000001))\n",
        "   (ConceptNode \"you\" (stv 0.001 0.99000001))\n",
        ")\n",
        " (InheritanceLink (stv 0.99000001 0.99000001)\n",
        "   (ConceptNode \"that@b01c4d1f-23c0-423b-a6c3-ed69b16940f2\" (stv 0.001 0.99000001))\n",
        "   (ConceptNode \"that\" (stv 0.001 0.99000001))\n",
        ")\n",
        " (EvaluationLink (stv 0.99000001 0.99000001)\n",
        "   (PredicateNode \"learn@3a7d35d8-39b7-4444-a16e-e39986b5d393\" (stv 0.001 0.99000001))\n",
        "   (ListLink (stv 0.99000001 0.99000001)\n",
        "      (ConceptNode \"you@737ddf6d-b637-48ad-8ebb-059d57f39e71\" (stv 0.001 0.99000001))\n",
        "      (ConceptNode \"that@b01c4d1f-23c0-423b-a6c3-ed69b16940f2\" (stv 0.001 0.99000001))\n",
        "   )\n",
        ")\n",
        " (EvaluationLink (stv 0.99000001 0.99000001)\n",
        "   (PredicateNode \"InManner\" (stv 0.001 0.99000001))\n",
        "   (ListLink (stv 0.99000001 0.99000001)\n",
        "      (VariableNode \"$qVar\")\n",
        "      (PredicateNode \"learn@3a7d35d8-39b7-4444-a16e-e39986b5d393\" (stv 0.001 0.99000001))\n",
        "   )\n",
        ")\n",
        " (InheritanceLink (stv 0.99000001 0.99000001)\n",
        "   (PredicateNode \"learn@3a7d35d8-39b7-4444-a16e-e39986b5d393\" (stv 0.001 0.99000001))\n",
        "   (ConceptNode \"past_infinitive\" (stv 0.001 0.99000001))\n",
        ")\n",
        ")\n",
        "\n"
       ]
      }
     ],
     "prompt_number": 9
    },
    {
     "cell_type": "markdown",
     "metadata": {},
     "source": [
      "To point out the way Relex2logic and the atomspace are tailored for natural language reasoning, note that in \"To whom did you send the message\" the VariableNode ```$qVar``` (the indirect object) is an argument of the PredicateNode \"send\" while in \"How did you learn that?\" the $qVar and the verb 'learn' are arguments of the PredicateNode \"InManner\" a semantic relation which is implicit in the grammar of the original sentence and the use of the word \"how.\"  This is a good example of the way Relex2Logic does more than just translate the grammatical relations into a new format; it infers the logic of the original sentence and makes it explicit for the purposes of automated reasoning.  You can see in the list of attributes where the query-type is defined by Relex as 'who' or 'how' in these cases, which notations are then used by Relex2Logic to generate Links such as the \"InManner\" seen above. "
     ]
    },
    {
     "cell_type": "markdown",
     "metadata": {},
     "source": [
      "**When did you bake the cake that you gave to Susan?**"
     ]
    },
    {
     "cell_type": "code",
     "collapsed": false,
     "input": [
      "relex(\"When did you bake the cake that you gave to Susan?\")"
     ],
     "language": "python",
     "metadata": {},
     "outputs": [
      {
       "output_type": "stream",
       "stream": "stdout",
       "text": [
        "(S when did (NP you) (VP bake (NP (NP the cake) (SBAR (WHNP that) (S (NP you) (VP gave (PP to (NP Susan))))))) ?)\r\n",
        "\r\n",
        "\r\n",
        "    +-------------------------------------Xp------------------------------------+       \r\n",
        "    |                                    +---------Bs---------+                 |       \r\n",
        "    +----->WV---->+----I*d----+----Os----+       +-----CV---->+                 |       \r\n",
        "    +---Wq--+--Q--+-SIp-+     |    +Ds**c+---R---+--Cr-+--Sp--+--MVp-+--Js-+    +--RW--+\r\n",
        "    |       |     |     |     |    |     |       |     |      |      |     |    |      |\r\n",
        "LEFT-WALL when did.v-d you bake.v the cake.s that.j-r you gave.v-d to.r Susan.f ? RIGHT-WALL \r\n",
        "\r\n",
        "\r\n",
        "Parse confidence: 0.5488\r\n",
        "cost vector = (UNUSED=0.0 DIS=1.0 LEN=20.0)\r\n",
        "\r\n",
        "======\r\n",
        "\r\n",
        "Dependency relations:\r\n",
        "\r\n",
        "    _%atTime(bake, _$qVar)\r\n",
        "    _obj(bake, cake)\r\n",
        "    _subj(bake, you)\r\n",
        "    to(give, Susan)\r\n",
        "    _obj(give, cake)\r\n",
        "    _subj(give, you)\r\n",
        "    that(cake, give)\r\n",
        "\r\n",
        "Attributes:\r\n",
        "\r\n",
        "    pronoun-FLAG(you, T)\r\n",
        "    gender(you, person)\r\n",
        "    pos(you, noun)\r\n",
        "    tense(bake, past_infinitive)\r\n",
        "    HYP(bake, T)\r\n",
        "    subscript-TAG(bake, .v)\r\n",
        "    pos(bake, verb)\r\n",
        "    subscript-TAG(do, .v-d)\r\n",
        "    pos(do, verb)\r\n",
        "    QUERY-TYPE(_$qVar, when)\r\n",
        "    pos(_$qVar, adv)\r\n",
        "    tense(give, past)\r\n",
        "    HYP(give, T)\r\n",
        "    subscript-TAG(give, .v-d)\r\n",
        "    pos(give, verb)\r\n",
        "    pos(?, punctuation)\r\n",
        "    gender(Susan, feminine)\r\n",
        "    definite-FLAG(Susan, T)\r\n",
        "    person-FLAG(Susan, T)\r\n",
        "    subscript-TAG(Susan, .f)\r\n",
        "    pos(Susan, noun)\r\n",
        "    noun_number(Susan, singular)\r\n",
        "    pronoun-FLAG(you, T)\r\n",
        "    gender(you, person)\r\n",
        "    pos(you, noun)\r\n",
        "    subscript-TAG(to, .r)\r\n",
        "    pos(to, prep)\r\n",
        "    subscript-TAG(that, .j-r)\r\n",
        "    pos(that, conjunction)\r\n",
        "    definite-FLAG(cake, T)\r\n",
        "    subscript-TAG(cake, .s)\r\n",
        "    pos(cake, noun)\r\n",
        "    noun_number(cake, singular)\r\n",
        "    pos(the, det)\n"
       ]
      }
     ],
     "prompt_number": 10
    },
    {
     "cell_type": "code",
     "collapsed": false,
     "input": [
      "to_logic(\"When did you bake the cake that you gave to Susan?\")"
     ],
     "language": "python",
     "metadata": {},
     "outputs": [
      {
       "output_type": "stream",
       "stream": "stdout",
       "text": [
        "((ImplicationLink (stv 0.99000001 0.99000001)\n",
        "   (PredicateNode \"bake@d566ec53-ed7a-4909-aa31-cc05f4e043e4\" (stv 0.001 0.99000001))\n",
        "   (PredicateNode \"bake\" (stv 0.001 0.99000001))\n",
        ")\n",
        " (InheritanceLink (stv 0.99000001 0.99000001)\n",
        "   (ConceptNode \"you@03d51001-2240-4e1c-97fe-97064607f7f0\" (stv 0.001 0.99000001))\n",
        "   (ConceptNode \"you\" (stv 0.001 0.99000001))\n",
        ")\n",
        " (InheritanceLink (stv 0.99000001 0.99000001)\n",
        "   (ConceptNode \"cake@251a5132-5b55-423f-919a-eddcb7c13dd3\" (stv 0.001 0.99000001))\n",
        "   (ConceptNode \"cake\" (stv 0.001 0.99000001))\n",
        ")\n",
        " (EvaluationLink (stv 0.99000001 0.99000001)\n",
        "   (PredicateNode \"bake@d566ec53-ed7a-4909-aa31-cc05f4e043e4\" (stv 0.001 0.99000001))\n",
        "   (ListLink (stv 0.99000001 0.99000001)\n",
        "      (ConceptNode \"you@03d51001-2240-4e1c-97fe-97064607f7f0\" (stv 0.001 0.99000001))\n",
        "      (ConceptNode \"cake@251a5132-5b55-423f-919a-eddcb7c13dd3\" (stv 0.001 0.99000001))\n",
        "   )\n",
        ")\n",
        " (AtTimeLink (stv 0.99000001 0.99000001)\n",
        "   (VariableNode \"$qVar\")\n",
        "   (PredicateNode \"bake@d566ec53-ed7a-4909-aa31-cc05f4e043e4\" (stv 0.001 0.99000001))\n",
        ")\n",
        " (InheritanceLink (stv 0.99000001 0.99000001)\n",
        "   (PredicateNode \"bake@d566ec53-ed7a-4909-aa31-cc05f4e043e4\" (stv 0.001 0.99000001))\n",
        "   (ConceptNode \"past_infinitive\" (stv 0.001 0.99000001))\n",
        ")\n",
        " (ImplicationLink (stv 0.99000001 0.99000001)\n",
        "   (PredicateNode \"gave@f96d7856-0a2c-4ed7-a7da-902bb35b0149\" (stv 0.001 0.99000001))\n",
        "   (PredicateNode \"give\" (stv 0.001 0.99000001))\n",
        ")\n",
        " (InheritanceLink (stv 0.99000001 0.99000001)\n",
        "   (ConceptNode \"you@79a0eea8-e125-42c8-8c3b-534a989348a3\" (stv 0.001 0.99000001))\n",
        "   (ConceptNode \"you\" (stv 0.001 0.99000001))\n",
        ")\n",
        " (InheritanceLink (stv 0.99000001 0.99000001)\n",
        "   (ConceptNode \"Susan@f83d526f-e8b3-44ab-a3ad-c4b2541a1447\" (stv 0.001 0.99000001))\n",
        "   (ConceptNode \"Susan\" (stv 0.001 0.99000001))\n",
        ")\n",
        " (EvaluationLink (stv 0.99000001 0.99000001)\n",
        "   (PredicateNode \"gave@f96d7856-0a2c-4ed7-a7da-902bb35b0149\" (stv 0.001 0.99000001))\n",
        "   (ListLink (stv 0.99000001 0.99000001)\n",
        "      (ConceptNode \"you@79a0eea8-e125-42c8-8c3b-534a989348a3\" (stv 0.001 0.99000001))\n",
        "      (ConceptNode \"cake@251a5132-5b55-423f-919a-eddcb7c13dd3\" (stv 0.001 0.99000001))\n",
        "      (ConceptNode \"Susan@f83d526f-e8b3-44ab-a3ad-c4b2541a1447\" (stv 0.001 0.99000001))\n",
        "   )\n",
        ")\n",
        " (InheritanceLink (stv 0.99000001 0.99000001)\n",
        "   (PredicateNode \"gave@f96d7856-0a2c-4ed7-a7da-902bb35b0149\" (stv 0.001 0.99000001))\n",
        "   (ConceptNode \"past\" (stv 0.001 0.99000001))\n",
        ")\n",
        " (InheritanceLink (stv 0.99000001 0.99000001)\n",
        "   (SpecificEntityNode \"Susan@f83d526f-e8b3-44ab-a3ad-c4b2541a1447\" (stv 0.001 0.99000001))\n",
        "   (ConceptNode \"female\" (stv 0.001 0.99000001))\n",
        ")\n",
        " (InheritanceLink (stv 0.99000001 0.99000001)\n",
        "   (SpecificEntityNode \"Susan@f83d526f-e8b3-44ab-a3ad-c4b2541a1447\" (stv 0.001 0.99000001))\n",
        "   (ConceptNode \"Susan\" (stv 0.001 0.99000001))\n",
        ")\n",
        " (EvaluationLink (stv 0.99000001 0.99000001)\n",
        "   (PredicateNode \"definite\" (stv 0.001 0.99000001))\n",
        "   (ListLink (stv 0.99000001 0.99000001)\n",
        "      (ConceptNode \"Susan@f83d526f-e8b3-44ab-a3ad-c4b2541a1447\" (stv 0.001 0.99000001))\n",
        "   )\n",
        ")\n",
        " (EvaluationLink (stv 0.99000001 0.99000001)\n",
        "   (PredicateNode \"definite\" (stv 0.001 0.99000001))\n",
        "   (ListLink (stv 0.99000001 0.99000001)\n",
        "      (ConceptNode \"cake@251a5132-5b55-423f-919a-eddcb7c13dd3\" (stv 0.001 0.99000001))\n",
        "   )\n",
        ")\n",
        ")\n",
        "\n"
       ]
      }
     ],
     "prompt_number": 11
    },
    {
     "cell_type": "markdown",
     "metadata": {},
     "source": [
      "This sentence gives some idea of the complexity available in the OpenCog NLP pipeline.  One may note several features of this representation.  The \"AtTime\" relation has its own link type, reflecting the fundamental status of that relation in cognition.  Note that the verbs 'bake' and 'give' are given HYP() attributes by Relex, indicating that the ideas that you baked and gave a cake to Susan are hypothetical to the speaker as far as the system knows.\n",
      "\n",
      "Further stages of processing available in the OpenCog pipeline are reasoning (MOSES and PLN), action-planning, and expression.  For example, PLN can be applied to search the atomspace for sub-hypergraphs that contain the information being asked for in a question, and then a Scheme function called cognitive-binding can be applied to bind the query-variable to the node which answers the question.  The expressive end of the pipeline currently consists of two subsystems, microplanning and surface realization, which are currently under development.  The microplanning sub-system selects the set of atoms for expression in a sentence and surface realization creates the sentence for output."
     ]
    },
    {
     "cell_type": "markdown",
     "metadata": {},
     "source": [
      "### Future work\n",
      "\n",
      "The OpenCog NLP pipeline might raise a number of philosophical issues.  It is certainly not intended to be a close imitation of the way human beings process natural language; it is tailored for reasoning by the OpenCog system. As a guiding factor, it is designed to comprehend, reason about, and produce natural language expressions in a way which is more natural and more amenable to General Intelligence than AI NLP systems which use heuristics and statistics to simulate language comprehension.  \n",
      "\n",
      "On the other hand, although OpenCog NLP strives for a relatively faithful representation of the grammar and logic of natural language, like other narrow-AI systems its knowledge is still not sufficient to comprehend and participate intelligently in an indefinite range of linguistic interactions.\n",
      "\n",
      "For that reason, we are also interested in the possibility of automated, unsupervised extraction of dependency grammars and associated syntax-to-semantic-relationship mappings from large text corpora. This proposed research is described in [Learning Language from a Large (Unannotated) Corpus](http://arxiv.org/pdf/1401.3372v1.pdf)."
     ]
    }
   ],
   "metadata": {}
  }
 ]
}